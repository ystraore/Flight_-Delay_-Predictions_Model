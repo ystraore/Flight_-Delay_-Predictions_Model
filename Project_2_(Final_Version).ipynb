{
  "cells": [
    {
      "cell_type": "markdown",
      "metadata": {
        "id": "view-in-github",
        "colab_type": "text"
      },
      "source": [
        "<a href=\"https://colab.research.google.com/github/ystraore/Flight_Delay_Predictions_Model/blob/yssa/Project_2_(Final_Version).ipynb\" target=\"_parent\"><img src=\"https://colab.research.google.com/assets/colab-badge.svg\" alt=\"Open In Colab\"/></a>"
      ]
    },
    {
      "cell_type": "markdown",
      "metadata": {
        "collapsed": false,
        "id": "r-Ywy2uBlyR9"
      },
      "source": [
        "# Predicting Categories of Flight Delay Among Popular Airlines\n",
        "#### By Yssa Traore\n",
        "\n",
        "#### Introduction and Problem Statement:\n",
        "Flight delays are a significant concern in the aviation industry, impacting operational efficiency and passenger satisfaction. This study aims to develop a predictive model to categorize flight delays into three distinct categories: no delay, significant delay, and lengthy delay. These categories are defined based on the duration of the delay, with thresholds determined by the distribution of delay times in historical flight data.\n",
        "\n",
        "The categorization is as follows:\n",
        "- No Delay: Delays of 10 minutes or less, typically considered negligible in terms of impact on passengers' schedules.\n",
        "- Moderate Delay: Delays between 10 to 30 minutes, which can cause inconvenience but are unlikely to severely disrupt travel plans.\n",
        "- Lengthy Delay: Delays exceeding 30 minutes, often resulting in significant disruptions to travel schedules and plans.\n",
        "\n",
        "The classification thresholds are established using the 0.33 and 0.66 quantiles of the delay duration distribution in the dataset, aligning with the practical implications of these delay durations from a traveler's perspective. The objective is to employ machine learning techniques to accurately predict the category of delay for a given flight, thereby aiding airlines and improving passenger experience through better communication and planning.\n",
        "\n",
        "This model could serve as a tool for airlines and passengers, offering insights into potential delays and allowing for more informed decision-making regarding flight schedules and travel plans."
      ]
    },
    {
      "cell_type": "markdown",
      "metadata": {
        "id": "6-yzF891s6kc"
      },
      "source": [
        "##Imports and initial dataset info\n",
        "\n",
        "Dataset link: [DelayedFlights.csv](https://www.kaggle.com/datasets/giovamata/airlinedelaycauses/download?datasetVersionNumber=2)\n",
        "\n",
        "Carrier Data Link: [L_UNIQUE_CARRIERS.csv](https://www.transtats.bts.gov/Download_Lookup.asp?Y11x72=Y_haVdhR_PNeeVRef)\n",
        "\n",
        "Airport Data Link: [L_AIRPORT.csv](https://www.transtats.bts.gov/Download_Lookup.asp?Y11x72=Y_NVecbeg)\n",
        "\n",
        "The main dataset, DelayedFlights, encompasses the data like where flights originated, the day and time of the flights, the month, taxi in time, and taxi out time, among others. Most of the information categorizing airlines and carriers use a proprietary encoding made by the Bureau of Transportation Statistics.\n",
        "\n",
        "Both the Carrier and Airport Datasets are used to change these codes from the BTS standard to the actual names of the airlines and airports to improve the interpretability of the plots."
      ]
    },
    {
      "cell_type": "code",
      "execution_count": 19,
      "metadata": {
        "collapsed": true,
        "id": "l6QHFD6rlyR_",
        "colab": {
          "base_uri": "https://localhost:8080/"
        },
        "outputId": "dad132de-4afe-4074-d46c-5ccc5cfe57e6"
      },
      "outputs": [
        {
          "output_type": "stream",
          "name": "stdout",
          "text": [
            "<class 'pandas.core.frame.DataFrame'>\n",
            "RangeIndex: 1369968 entries, 0 to 1369967\n",
            "Data columns (total 30 columns):\n",
            " #   Column             Non-Null Count    Dtype  \n",
            "---  ------             --------------    -----  \n",
            " 0   Unnamed: 0         1369968 non-null  int64  \n",
            " 1   Year               1369968 non-null  int64  \n",
            " 2   Month              1369968 non-null  int64  \n",
            " 3   DayofMonth         1369968 non-null  int64  \n",
            " 4   DayOfWeek          1369968 non-null  int64  \n",
            " 5   DepTime            1369968 non-null  float64\n",
            " 6   CRSDepTime         1369968 non-null  int64  \n",
            " 7   ArrTime            1364719 non-null  float64\n",
            " 8   CRSArrTime         1369968 non-null  int64  \n",
            " 9   UniqueCarrier      1369968 non-null  object \n",
            " 10  FlightNum          1369968 non-null  int64  \n",
            " 11  TailNum            1369963 non-null  object \n",
            " 12  ActualElapsedTime  1364719 non-null  float64\n",
            " 13  CRSElapsedTime     1369793 non-null  float64\n",
            " 14  AirTime            1364719 non-null  float64\n",
            " 15  ArrDelay           1364719 non-null  float64\n",
            " 16  DepDelay           1369968 non-null  float64\n",
            " 17  Origin             1369968 non-null  object \n",
            " 18  Dest               1369968 non-null  object \n",
            " 19  Distance           1369968 non-null  int64  \n",
            " 20  TaxiIn             1364718 non-null  float64\n",
            " 21  TaxiOut            1369967 non-null  float64\n",
            " 22  Cancelled          1369967 non-null  float64\n",
            " 23  CancellationCode   1369967 non-null  object \n",
            " 24  Diverted           1369967 non-null  float64\n",
            " 25  CarrierDelay       891715 non-null   float64\n",
            " 26  WeatherDelay       891715 non-null   float64\n",
            " 27  NASDelay           891715 non-null   float64\n",
            " 28  SecurityDelay      891715 non-null   float64\n",
            " 29  LateAircraftDelay  891715 non-null   float64\n",
            "dtypes: float64(16), int64(9), object(5)\n",
            "memory usage: 313.6+ MB\n"
          ]
        }
      ],
      "source": [
        "import pandas as pd\n",
        "import numpy as np\n",
        "import seaborn as sns\n",
        "import matplotlib.pyplot as plt\n",
        "from sklearn.tree import DecisionTreeClassifier\n",
        "from sklearn.model_selection import train_test_split, GridSearchCV\n",
        "from sklearn.metrics import classification_report, accuracy_score\n",
        "import warnings\n",
        "warnings.filterwarnings('ignore')\n",
        "\n",
        "# Load the sample data\n",
        "df = pd.read_csv('/content/DelayedFlights.csv')\n",
        "carriers = pd.read_csv('/content/L_UNIQUE_CARRIERS (1).csv')\n",
        "airports_df = pd.read_csv('/content/L_UNIQUE_CARRIERS (1).csv')\n",
        "df.info()\n",
        "\n",
        "\n"
      ]
    },
    {
      "cell_type": "markdown",
      "metadata": {
        "id": "8OlkCtnMRZ_f"
      },
      "source": [
        "Initial Preprocessing\n",
        "\n",
        "The primary objective here is to ensure that it's easy to understand exactly what is in the columns we're going to be using. We also drop some unnecessary columns and create the variable we will be predicting, Delay Category."
      ]
    },
    {
      "cell_type": "code",
      "execution_count": null,
      "metadata": {
        "id": "rJ0YRk4G7yQh"
      },
      "outputs": [],
      "source": [
        "# Renaming columns for clarity\n",
        "rename_columns = {\n",
        "    'DepTime': 'ActualDepartureTime',\n",
        "    'CRSDepTime': 'ScheduledDepartureTime',\n",
        "    'ArrTime': 'ActualArrivalTime',\n",
        "    'CRSArrTime': 'ScheduledArrivalTime',\n",
        "    'UniqueCarrier': 'CarrierCode',\n",
        "    'ActualElapsedTime': 'ElapsedTimeInMinutes',\n",
        "    'CRSElapsedTime': 'EstimatedElapsedTimeInMinutes',\n",
        "    'AirTime': 'FlightTimeInMinutes',\n",
        "    'ArrDelay': 'ArrivalDelayInMinutes',\n",
        "    'DepDelay': 'DepartureDelayInMinutes',\n",
        "    'Origin': 'OriginAirportCode',\n",
        "    'Dest': 'DestinationAirportCode',\n",
        "    'Distance': 'FlightDistance',\n",
        "    'TaxiIn': 'TaxiInTimeInMinutes',\n",
        "    'TaxiOut': 'TaxiOutTimeInMinutes'\n",
        "}\n",
        "df.rename(columns=rename_columns, inplace=True)\n",
        "\n",
        "# Dropping unnecessary columns\n",
        "columns_to_drop = ['Unnamed: 0', 'Year', 'FlightNum', 'TailNum',\n",
        "                   'Cancelled', 'CancellationCode', 'Diverted',\n",
        "                   'CarrierDelay', 'WeatherDelay', 'NASDelay',\n",
        "                   'SecurityDelay', 'LateAircraftDelay']\n",
        "df.drop(columns_to_drop, axis=1, inplace=True)\n",
        "\n",
        "# Handle missing values by filling with median for numeric columns\n",
        "numeric_cols = df.select_dtypes(include=[np.number]).columns\n",
        "df[numeric_cols] = df[numeric_cols].fillna(df[numeric_cols].median())\n",
        "\n",
        "# Define delay categories based on departure delay duration\n",
        "delay_thresholds = [-float('inf'), 10, 30, float('inf')]\n",
        "delay_labels = ['No Delay', 'Moderate Delay', 'Lengthy Delay']\n",
        "df['DelayDuration'] = df['DepartureDelayInMinutes']  # Using DepartureDelayInMinutes\n",
        "df['DelayCategory'] = pd.cut(df['DelayDuration'], bins=delay_thresholds, labels=delay_labels)\n"
      ]
    },
    {
      "cell_type": "code",
      "execution_count": null,
      "metadata": {
        "id": "9iQ5BUOyBz5x"
      },
      "outputs": [],
      "source": [
        "# Merging carrier names without dropping 'CarrierCode'\n",
        "df = df.merge(carriers, left_on='CarrierCode', right_on='Code', how='left')\n",
        "df.drop(['Code'], axis=1, inplace=True)\n",
        "df.rename(columns={'Description': 'AirlineName'}, inplace=True)\n",
        "\n",
        "# Merging airport names\n",
        "df = df.merge(airports_df, left_on='OriginAirportCode', right_on='Code', how='left')\n",
        "df.rename(columns={'Description': 'OriginAirportName'}, inplace=True)\n",
        "df.drop(['Code'], axis=1, inplace=True)\n",
        "\n",
        "df = df.merge(airports_df, left_on='DestinationAirportCode', right_on='Code', how='left')\n",
        "df.rename(columns={'Description': 'DestinationAirportName'}, inplace=True)\n",
        "df.drop(['Code'], axis=1, inplace=True)\n"
      ]
    },
    {
      "cell_type": "markdown",
      "metadata": {
        "collapsed": false,
        "id": "BUgaNhkRlySA"
      },
      "source": [
        "# Data Exploration/Visualization\n",
        "\n",
        "\n"
      ]
    },
    {
      "cell_type": "markdown",
      "source": [
        "Suppose you are a commuter who frequently uses a particular airline for business trips. You're interested in understanding if there are specific times of the day when flights are more likely to experience delays.\n",
        "\n",
        "Knowing this information, you, as a commuter, can make more informed decisions about the timing of your flights. If punctuality is crucial, you might consider scheduling flights during periods with historically lower average delays."
      ],
      "metadata": {
        "id": "U83TGalWpDZp"
      }
    },
    {
      "cell_type": "code",
      "execution_count": null,
      "metadata": {
        "id": "d6Truc7bEdxj"
      },
      "outputs": [],
      "source": [
        "df['DepartureTimeHour'] = df['ActualDepartureTime'] // 100\n",
        "departure_agg_data = df.groupby('DepartureTimeHour')['DepartureDelayInMinutes'].mean().reset_index()\n",
        "\n",
        "# Ensure 'DepartureTimeHour' is integer for formatting\n",
        "departure_agg_data['DepartureTimeHour'] = departure_agg_data['DepartureTimeHour'].astype(int)\n",
        "\n",
        "# Format the hour for better readability\n",
        "departure_agg_data['FormattedHour'] = departure_agg_data['DepartureTimeHour'].apply(lambda x: f'{x:02d}:00')\n",
        "\n",
        "plt.figure(figsize=(15, 6))\n",
        "sns.barplot(x='FormattedHour', y='DepartureDelayInMinutes', data=departure_agg_data, color='skyblue')\n",
        "plt.xticks(rotation=45)\n",
        "plt.title('Average Departure Delay by Time of Day (Actual Departure Time)')\n",
        "plt.xlabel('Time of Day (HH:MM)')\n",
        "plt.ylabel('Average Departure Delay (minutes)')\n",
        "plt.grid(axis='y')\n",
        "plt.show()\n"
      ]
    },
    {
      "cell_type": "markdown",
      "metadata": {
        "id": "P9R2SQfPRkgI"
      },
      "source": [
        "Analyzing the data, we observe distinct patterns. Early morning flights, from midnight to about 4 AM, encounter the most delay, most likely due to reduced pilot and plane availability. As the workday approaches, delay seems to drop precipitously until late night returns.  Understanding these trends enhances travel planning and overall experience."
      ]
    },
    {
      "cell_type": "markdown",
      "metadata": {
        "id": "E3GhPLdAb7h5"
      },
      "source": [
        "\n",
        "\n",
        "To pivot slightly, understanding the distribution of flight departures throughout the day is crucial for travelers aiming to optimize their trip. This offers valuable insights into the busiest and quietest hours at the airport, allowing passengers to plan their flights during less congested periods for a more seamless travel experience.\n",
        "\n",
        "A count plot provides a clear overview of the hourly distribution of flight departures. Peaks in the graph indicate periods of higher air traffic, potentially leading to longer wait times and congestion at the airport. On the contrary, valleys suggest quieter hours with fewer flights, offering travelers an opportunity to avoid the hustle and bustle associated with peak times.\n"
      ]
    },
    {
      "cell_type": "code",
      "execution_count": null,
      "metadata": {
        "id": "0xyuXqmSf4A2"
      },
      "outputs": [],
      "source": [
        "df['DepartureTimeHour'] = df['ActualDepartureTime'] // 100\n",
        "\n",
        "plt.figure(figsize=(15, 6))\n",
        "sns.countplot(x='DepartureTimeHour', data=df, color='skyblue')\n",
        "plt.title('Number of Flights per Hour (Actual Departure Time)')\n",
        "plt.xlabel('Time of Day (Hour)')\n",
        "plt.ylabel('Number of Flights')\n",
        "plt.grid(axis='y')\n",
        "plt.show()"
      ]
    },
    {
      "cell_type": "markdown",
      "metadata": {
        "id": "RFxjXhxIf_1Q"
      },
      "source": [
        "\n",
        "Examining the plot provides insights into the temporal dynamics of flight numbers. The initial dip in flights around midnight can be attributed to reduced air travel demand during late hours. The subsequent decline from 1 AM to 4 AM may result from scheduling adjustments and decreased passenger activity. The noticeable uptick starting at 5 AM, with a gradual increase until the peak at 7 PM, likely reflects the resumption of daily air travel patterns and higher demand during daylight hours.\n",
        "\n",
        "This confirms our assumption about increases and decreases in delay times by the hour of the day."
      ]
    },
    {
      "cell_type": "markdown",
      "source": [
        "\n",
        "\n",
        "It would be useful to have insights into the comparative performance of the busiest airlines as it concerns average departure delays. By presenting the information graphically, it facilitates a quick and easy assessment of each airline's punctuality, and gives some insight as to whether we might be able to predict delay if we know what airline a passenger is flying."
      ],
      "metadata": {
        "id": "yEbvq6ndrFpW"
      }
    },
    {
      "cell_type": "code",
      "execution_count": null,
      "metadata": {
        "id": "SdW4osGgISOt"
      },
      "outputs": [],
      "source": [
        "# Identify the top 15 airlines by the number of flights\n",
        "top_airlines = df['AirlineName'].value_counts().nlargest(15).index\n",
        "\n",
        "# Filter the DataFrame to only include the top airlines\n",
        "df_top_airlines = df[df['AirlineName'].isin(top_airlines)]\n",
        "\n",
        "# Calculate the average delay for each of these top airlines\n",
        "avg_delay_by_airline = df_top_airlines.groupby('AirlineName')['DepartureDelayInMinutes'].mean().sort_values(ascending=False)\n",
        "\n",
        "# Plotting Average Delays for Top 15 Airlines\n",
        "plt.figure(figsize=(12, 6))\n",
        "avg_delay_by_airline.plot(kind='bar', color='purple')\n",
        "plt.title('Average Departure Delay by Airline (Top 15 Airlines)')\n",
        "plt.xlabel('Airline')\n",
        "plt.ylabel('Average Departure Delay (minutes)')\n",
        "plt.xticks(rotation=45)\n",
        "plt.show()"
      ]
    },
    {
      "cell_type": "markdown",
      "metadata": {
        "id": "f4KRPiQeSq3t"
      },
      "source": [
        "We can see that Mesa Airlines and JetBlue Airways show the highest delays. On the contrary, US Airways and Southwest Airlines consistently demonstrate the lowest delays. This contrast in delay patterns highlights the varying operational efficiencies among the airlines, and shows that although there are some upticks in wait times for certain carriers, the average wait times are generally about the same.\n"
      ]
    },
    {
      "cell_type": "markdown",
      "metadata": {
        "id": "3m1IUwsPdS1H"
      },
      "source": [
        "It might be worth visualizing the impact of seasonality on delay. Do delays increase in colder weather when snowstorms are more common, or perhaps in the Summer months when more people are presumably traveling?"
      ]
    },
    {
      "cell_type": "code",
      "execution_count": null,
      "metadata": {
        "id": "t3vW9QztHss_"
      },
      "outputs": [],
      "source": [
        "def categorize_season(month):\n",
        "    if month in [12, 1, 2]:\n",
        "        return 'Winter'\n",
        "    elif month in [3, 4, 5]:\n",
        "        return 'Spring'\n",
        "    elif month in [6, 7, 8]:\n",
        "        return 'Summer'\n",
        "    else:  # 9, 10, 11\n",
        "        return 'Fall'\n",
        "\n",
        "\n",
        "df['Season'] = df['Month'].apply(categorize_season)\n",
        "avg_delay_by_season = df.groupby('Season')['DepartureDelayInMinutes'].mean()\n",
        "\n",
        "plt.figure(figsize=(10, 6))\n",
        "sns.barplot(x=avg_delay_by_season.index, y=avg_delay_by_season.values, palette='coolwarm')\n",
        "plt.title('Average Departure Delay by Season')\n",
        "plt.xlabel('Season')\n",
        "plt.ylabel('Average Departure Delay (minutes)')\n",
        "plt.show()\n"
      ]
    },
    {
      "cell_type": "markdown",
      "source": [
        "The bar plot indeed reveals increased average departure delays in winter and summer, around 50 minutes, and that could be attributed to adverse weather conditions, increases in traffic, or a combination of all those factors. The winter season, coinciding with holiday traffic and potential disruptions, likely further exacerbates delays."
      ],
      "metadata": {
        "id": "bgMdyI68s9Qm"
      }
    },
    {
      "cell_type": "markdown",
      "metadata": {
        "id": "bkP34uiqhs8Y"
      },
      "source": [
        "Finally, it might be useful to see whether the airport someone is flying into or out of has any bearing on their expected delay time. Are certain airports more likely than others to have longer waits?"
      ]
    },
    {
      "cell_type": "code",
      "execution_count": null,
      "metadata": {
        "id": "zHhnf9xCJGOy"
      },
      "outputs": [],
      "source": [
        "top_15_origin = df['OriginAirportName'].value_counts().nlargest(15).index\n",
        "\n",
        "# Filter for top 15 origin airports\n",
        "df_top_origin = df[df['OriginAirportName'].isin(top_15_origin)]\n",
        "\n",
        "# Calculate average departure delay\n",
        "avg_departure_delay_origin = df_top_origin.groupby('OriginAirportName')['DepartureDelayInMinutes'].mean().reset_index()\n",
        "avg_departure_delay_sorted = avg_departure_delay_origin.sort_values(by='DepartureDelayInMinutes')\n",
        "\n",
        "# Plot\n",
        "plt.figure(figsize=(15, 6))\n",
        "sns.barplot(x='DepartureDelayInMinutes', y='OriginAirportName', data=avg_departure_delay_sorted, palette='deep', orient='h')\n",
        "plt.title('Average Departure Delay by Origin Airport (Top 15)')\n",
        "plt.xlabel('Average Departure Delay (minutes)')\n",
        "plt.ylabel('Origin Airport')\n",
        "plt.show()\n",
        "\n"
      ]
    },
    {
      "cell_type": "code",
      "execution_count": null,
      "metadata": {
        "id": "mupZka6JOVSY"
      },
      "outputs": [],
      "source": [
        "top_15_dest = df['DestinationAirportName'].value_counts().nlargest(15).index\n",
        "\n",
        "# Filter for top 15 destination airports\n",
        "df_top_dest = df[df['DestinationAirportName'].isin(top_15_dest)]\n",
        "\n",
        "# Calculate average arrival delay\n",
        "avg_arrival_delay_dest = df_top_dest.groupby('DestinationAirportName')['ArrivalDelayInMinutes'].mean().reset_index()\n",
        "\n",
        "# Sorting the data in ascending order based on average arrival delay\n",
        "avg_arrival_delay_dest_sorted = avg_arrival_delay_dest.sort_values(by='ArrivalDelayInMinutes')\n",
        "\n",
        "# Plot\n",
        "plt.figure(figsize=(15, 6))\n",
        "sns.barplot(x='ArrivalDelayInMinutes', y='DestinationAirportName', data=avg_arrival_delay_dest_sorted, palette='deep', orient='h')\n",
        "plt.title('Average Arrival Delay by Destination Airport (Top 15)')\n",
        "plt.xlabel('Average Arrival Delay (minutes)')\n",
        "plt.ylabel('Destination Airport')\n",
        "plt.show()"
      ]
    },
    {
      "cell_type": "markdown",
      "metadata": {
        "id": "GP73DjLPQ8yg"
      },
      "source": [
        "These plots show that many of the same airports have longer delays, with the order seeming to vary more for the arrival delays. There could be systemic reasons for this, traffic-related explanations, process bottlenecks, or otherwise. Without more specific data, it's hard to say."
      ]
    },
    {
      "cell_type": "markdown",
      "source": [
        "# Machine Learning Preprocessing"
      ],
      "metadata": {
        "id": "XY6kZR_nwurp"
      }
    },
    {
      "cell_type": "markdown",
      "metadata": {
        "id": "Gx3PAT2uRfSY"
      },
      "source": [
        "Define Predictors and target, encode, split into training/test"
      ]
    },
    {
      "cell_type": "code",
      "execution_count": null,
      "metadata": {
        "id": "Z4TYps9QDYOg"
      },
      "outputs": [],
      "source": [
        "\n",
        "# Define the target variable\n",
        "target = df['DelayCategory']\n",
        "\n",
        "# Explicitly declaring the columns to use as predictors\n",
        "predictor_columns = [\n",
        "    'DayOfWeek', 'CarrierCode', 'OriginAirportCode', 'DestinationAirportCode',\n",
        "    'FlightDistance', 'TaxiInTimeInMinutes', 'TaxiOutTimeInMinutes', 'AirlineName',\n",
        "    'OriginAirportName', 'DestinationAirportName', 'ScheduledDepartureTime', 'Season'\n",
        "]\n",
        "\n",
        "# Extracting only the specified predictor columns\n",
        "predictors = df[predictor_columns]\n",
        "\n",
        "# Apply one-hot encoding to the categorical predictor variables\n",
        "df_encoded = pd.get_dummies(predictors, drop_first=True)\n",
        "\n",
        "# Extracting predictor variables\n",
        "X = df_encoded.values  # df_encoded now contains only the specified and encoded predictors\n",
        "y = target.values\n",
        "\n",
        "# Splitting the data into training and testing sets\n",
        "X_train, X_test, y_train, y_test = train_test_split(X, y, test_size=0.2, random_state=42)"
      ]
    },
    {
      "cell_type": "markdown",
      "metadata": {
        "id": "iHIo_fSlRnUH"
      },
      "source": [
        "##Baseline Accuracy"
      ]
    },
    {
      "cell_type": "code",
      "execution_count": null,
      "metadata": {
        "id": "CV-0ETIQlySB"
      },
      "outputs": [],
      "source": [
        "# Determine the most frequent class for baseline accuracy\n",
        "most_frequent_class = pd.Series(y_train).mode()[0]\n",
        "baseline_predictions = [most_frequent_class] * len(y_test)\n",
        "baseline_accuracy = accuracy_score(y_test, baseline_predictions)\n",
        "print(f'Baseline Accuracy:{baseline_accuracy:.2f}')\n"
      ]
    },
    {
      "cell_type": "markdown",
      "metadata": {
        "id": "PPI1eg_ORr7L"
      },
      "source": [
        "Machine Learning Prep\n",
        "\n",
        "> Note: There was a GridSearch CV block, and it was removed because it took about 2 hours to run on this dataset. The optimal max_depth given by the GridSearch was max_depth=13.\n"
      ]
    },
    {
      "cell_type": "code",
      "execution_count": null,
      "metadata": {
        "id": "jmL3RvhElySC"
      },
      "outputs": [],
      "source": [
        "clf = DecisionTreeClassifier(max_depth=13, random_state=42)\n",
        "clf.fit(X_train, y_train)\n",
        "\n"
      ]
    },
    {
      "cell_type": "markdown",
      "metadata": {
        "id": "SQ0N66adRxRo"
      },
      "source": [
        "#Predict"
      ]
    },
    {
      "cell_type": "code",
      "execution_count": null,
      "metadata": {
        "id": "r97YHR_o0a8e"
      },
      "outputs": [],
      "source": [
        "# Evaluate the model\n",
        "y_pred = clf.predict(X_test)\n",
        "accuracy = accuracy_score(y_test, y_pred)\n",
        "class_report = classification_report(y_test, y_pred)\n",
        "\n",
        "print(f'Test Accuracy: {accuracy:.2f}')\n",
        "print(\"\\nClassification Report:\\n\", class_report)\n"
      ]
    },
    {
      "cell_type": "markdown",
      "metadata": {
        "id": "fx0qzvaGRzb7"
      },
      "source": [
        "Feature importances"
      ]
    },
    {
      "cell_type": "code",
      "execution_count": null,
      "metadata": {
        "id": "sT94-hPjlySC"
      },
      "outputs": [],
      "source": [
        "feature_importances = clf.feature_importances_\n",
        "\n",
        "# Ensure the length of feature importances matches the number of columns in df_encoded\n",
        "if len(feature_importances) == len(df_encoded.columns):\n",
        "    top_features = pd.Series(feature_importances, index=df_encoded.columns).sort_values(ascending=False).head(10)\n",
        "\n",
        "    # Plot the top 10 feature importances\n",
        "    plt.figure(figsize=(12, 8))\n",
        "    sns.barplot(x=top_features.values, y=top_features.index)\n",
        "    plt.title('Top 10 Feature Importances in Decision Tree')\n",
        "    plt.xlabel('Importance')\n",
        "    plt.ylabel('Feature')\n",
        "    plt.show()\n",
        "else:\n",
        "    print(\"Mismatch in the number of features between the model and the encoded DataFrame.\")\n",
        "\n"
      ]
    },
    {
      "cell_type": "markdown",
      "metadata": {
        "id": "TPfkDrIEt4Nh"
      },
      "source": [
        "##Conclusion"
      ]
    },
    {
      "cell_type": "markdown",
      "metadata": {
        "id": "XGBdAsKT2pNI"
      },
      "source": [
        "I developed a Decision Tree Classifier to predict the category of delay of a flight based on features like depature time hour, day of week, and distance. The model classifies delays into three categories: No Delay (10 minutes or less), Moderate Delay (10 to 30 minutes), and Lengthy Delay (more than 30 minutes). Our baseline accuracy was 42%, we were able to achieve a test accuracy of 46%. The most interesting thing about these results is the extent to which the scheduled departure time of the passenger plays into the algorithm's prediction. The next step here would be another iteration of this process, perhaps after some more feature engineering.\n",
        "\n",
        "The number of samples supporting the No Delay category were signifcantly less than the samples for the other classes, so the natural inclination is to suspect feature imbalance. Given the size of the dataset and the time consumed in training and predicting the Decision Tree Classifier for what ultimately seems to be minimal gains in overall accuracy, it may be worth trying other algorithms.\n",
        "\n",
        "\n",
        "After examining the top 10 important features we found that the most influencial factor was departure time hour followed by flight distance. This tells us that overwhelmingly, the greatest indicator of a consumer's wait time is the time that they are scheduled to leave the airport. This aligns with the exploratory analysis that indicated certain times of day are significantly more delay-prone than others, but all times of day can generally expect a delay of some sort. This, in fact, is likely why the \"No delay\" category has such a low recall and f-1 score -- there are simply fewer instances of having no wait at airports, regardless of carrier or airport. Ultimately, we did not make significant enough improvements over the baseline to consider this model reliable."
      ]
    }
  ],
  "metadata": {
    "colab": {
      "machine_shape": "hm",
      "provenance": [],
      "include_colab_link": true
    },
    "kernelspec": {
      "display_name": "Python 3",
      "name": "python3"
    },
    "language_info": {
      "codemirror_mode": {
        "name": "ipython",
        "version": 2
      },
      "file_extension": ".py",
      "mimetype": "text/x-python",
      "name": "python",
      "nbconvert_exporter": "python",
      "pygments_lexer": "ipython2",
      "version": "2.7.6"
    }
  },
  "nbformat": 4,
  "nbformat_minor": 0
}